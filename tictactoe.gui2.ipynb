{
 "cells": [
  {
   "cell_type": "code",
   "execution_count": 1,
   "metadata": {
    "collapsed": true
   },
   "outputs": [],
   "source": [
    "from tkinter import *\n",
    "import tkinter as tk\n",
    "import tkinter.messagebox"
   ]
  },
  {
   "cell_type": "code",
   "execution_count": 2,
   "metadata": {
    "collapsed": true
   },
   "outputs": [],
   "source": [
    "class SampleApp(tk.Tk):\n",
    "    def __init__(self):\n",
    "        tk.Tk.__init__(self)\n",
    "        self._frame = None\n",
    "        \n",
    "        self.switch_frame(StartPage)\n",
    "\n",
    "    def switch_frame(self, frame_class):\n",
    "        \"\"\"Destroys current frame and replaces it with a new one.\"\"\"\n",
    "        new_frame = frame_class(self)\n",
    "        if self._frame is not None:\n",
    "            \n",
    "            self._frame.destroy()\n",
    "        self._frame = new_frame\n",
    "        self._frame.pack()"
   ]
  },
  {
   "cell_type": "code",
   "execution_count": 18,
   "metadata": {},
   "outputs": [
    {
     "name": "stdout",
     "output_type": "stream",
     "text": [
      "0 0\n"
     ]
    }
   ],
   "source": [
    "class StartPage(tk.Frame):\n",
    "    def __init__(self, master):\n",
    "        tk.Frame.__init__(self, master)\n",
    "        \n",
    "        self.master = master\n",
    "        self.configure(background=\"coral\")\n",
    "        tk.Label(self, text=\"WELCOME TO THE GAME\",bg=\"#ffffff\").pack(side=\"top\", fill=\"x\", padx=70, pady=30)\n",
    "        tk.Label(self,text=\"Input numbers of players\",bg=\"#ffffff\").pack(side=\"left\",fill=\"x\" ,padx=30,pady=30)\n",
    "        global val,s\n",
    "        s = tk.Entry(self,bd=1)\n",
    "        s.pack(side=\"left\",fill=\"x\",pady=30)\n",
    "       \n",
    "        button1= tk.Button(self, text=\"Submit\",bg=\"#ffffff\",\n",
    "                  command=self.get_s)\n",
    "        button1.pack(padx=\"10\",pady=\"15\")\n",
    "        print(val,s)\n",
    "        \n",
    "    def get_s(self):\n",
    "        val = int(s.get())\n",
    "        print(val, type(val))  #REMOVE THIS LINE (DEBUGGING)\n",
    "        self.master.switch_frame(PageOne)\n",
    "print(val,s)"
   ]
  },
  {
   "cell_type": "code",
   "execution_count": 21,
   "metadata": {
    "collapsed": true
   },
   "outputs": [],
   "source": [
    "class PageOne(tk.Frame):\n",
    "    def __init__(self, master):\n",
    "        tk.Frame.__init__(self, master)\n",
    "        \n",
    "        tk.Button(self, text=\"Return to start page\", command=lambda: master.switch_frame(StartPage)).pack()   \n",
    "        var = \"Welcome to TicTacToe.ai\"\n",
    "        #window.pack_propagate(0)\n",
    "        welcome = Label(app, text= var)\n",
    "        welcome.pack()\n",
    "        print(val,s, \"hi\")\n",
    "        \n",
    "        frames = [0]*val\n",
    "        for i in range(val):\n",
    "            frames[i] = Frame(app)\n",
    "            frames[i].pack()\n",
    "        b = [[]*val for n in range(val)]\n",
    "\n",
    "        for i in range(val):\n",
    "            for j in range(val):\n",
    "                b[i].append(Button(frames[i], text=str('X')))\n",
    "\n",
    "        for i in range(val):\n",
    "            for j in range(val):\n",
    "                #print(f'i = {i} and j = {j}')\n",
    "                b[i][j].pack(side=LEFT)"
   ]
  },
  {
   "cell_type": "code",
   "execution_count": 22,
   "metadata": {},
   "outputs": [
    {
     "name": "stdout",
     "output_type": "stream",
     "text": [
      "0 .!startpage.!entry\n",
      "4 <class 'int'>\n",
      "0 .!startpage.!entry hi\n"
     ]
    }
   ],
   "source": [
    "if __name__ == \"__main__\":\n",
    "    app = SampleApp()\n",
    "    app.mainloop()"
   ]
  },
  {
   "cell_type": "code",
   "execution_count": null,
   "metadata": {
    "collapsed": true
   },
   "outputs": [],
   "source": []
  },
  {
   "cell_type": "code",
   "execution_count": null,
   "metadata": {
    "collapsed": true
   },
   "outputs": [],
   "source": []
  },
  {
   "cell_type": "code",
   "execution_count": null,
   "metadata": {
    "collapsed": true
   },
   "outputs": [],
   "source": []
  }
 ],
 "metadata": {
  "kernelspec": {
   "display_name": "Python 3",
   "language": "python",
   "name": "python3"
  },
  "language_info": {
   "codemirror_mode": {
    "name": "ipython",
    "version": 3
   },
   "file_extension": ".py",
   "mimetype": "text/x-python",
   "name": "python",
   "nbconvert_exporter": "python",
   "pygments_lexer": "ipython3",
   "version": "3.6.3"
  }
 },
 "nbformat": 4,
 "nbformat_minor": 2
}
