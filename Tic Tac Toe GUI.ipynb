{
 "cells": [
  {
   "cell_type": "code",
   "execution_count": null,
   "metadata": {},
   "outputs": [],
   "source": [
    "from tkinter import *\n",
    "import tkinter as tk\n",
    "import tkinter.messagebox\n",
    "\n",
    "\n",
    "\n",
    "class SampleApp(tk.Tk):\n",
    "    def __init__(self):\n",
    "        tk.Tk.__init__(self)\n",
    "        self._frame = None\n",
    "        \n",
    "        self.switch_frame(StartPage)\n",
    "\n",
    "    def switch_frame(self, frame_class):\n",
    "        \"\"\"Destroys current frame and replaces it with a new one.\"\"\"\n",
    "        new_frame = frame_class(self)\n",
    "        if self._frame is not None:\n",
    "            \n",
    "            self._frame.destroy()\n",
    "        self._frame = new_frame\n",
    "        self._frame.pack()\n",
    "\n",
    "class StartPage(tk.Frame):\n",
    "    def __init__(self, master):\n",
    "        tk.Frame.__init__(self, master)\n",
    "        self.configure(background=\"coral\")\n",
    "        tk.Label(self, text=\"WELCOME TO THE GAME\",bg=\"#ffffff\").pack(side=\"top\", fill=\"x\", padx=70, pady=30)\n",
    "        tk.Label(self,text=\"Select numbers of players\",bg=\"#ffffff\").pack(side=\"left\",fill=\"x\" ,padx=30,pady=30)\n",
    "        tk.Entry(self,bd=1).pack(side=\"left\",fill=\"x\",pady=30)\n",
    "        tk.Button(self, text=\"submit\",bg=\"#ffffff\",\n",
    "                  command=lambda: master.switch_frame(PageOne)).pack(fill=\"x\", padx=30,pady=30)\n",
    "        \n",
    "class PageOne(tk.Frame):\n",
    "    def __init__(self, master):\n",
    "        tk.Frame.__init__(self, master)\n",
    "        tk.Button(self, text=\"Return to start page\",\n",
    "                  command=lambda: master.switch_frame(StartPage)).pack()\n",
    "        \n",
    "        var = \"Welcome to TicTacToe.ai\"\n",
    "        #window.pack_propagate(0)\n",
    "        welcome = Label(app, text= var)\n",
    "        welcome.pack()\n",
    "        s=3\n",
    "        \n",
    "        frames = [0]*s\n",
    "        for i in range(s):\n",
    "            frames[i] = Frame(app)\n",
    "            frames[i].pack()\n",
    "        b = [[]*s for n in range(s)]\n",
    "\n",
    "        for i in range(s):\n",
    "            for j in range(s):\n",
    "                b[i].append(Button(frames[i], text=str('X')))\n",
    "\n",
    "        for i in range(s):\n",
    "            for j in range(s):\n",
    "                #print(f'i = {i} and j = {j}')\n",
    "                b[i][j].pack(side=LEFT)\n",
    "\n",
    "if __name__ == \"__main__\":\n",
    "    app = SampleApp()\n",
    "    app.mainloop()"
   ]
  },
  {
   "cell_type": "code",
   "execution_count": null,
   "metadata": {},
   "outputs": [],
   "source": []
  },
  {
   "cell_type": "code",
   "execution_count": null,
   "metadata": {},
   "outputs": [],
   "source": []
  },
  {
   "cell_type": "code",
   "execution_count": null,
   "metadata": {},
   "outputs": [],
   "source": []
  }
 ],
 "metadata": {
  "kernelspec": {
   "display_name": "Python 3",
   "language": "python",
   "name": "python3"
  },
  "language_info": {
   "codemirror_mode": {
    "name": "ipython",
    "version": 3
   },
   "file_extension": ".py",
   "mimetype": "text/x-python",
   "name": "python",
   "nbconvert_exporter": "python",
   "pygments_lexer": "ipython3",
   "version": "3.6.5"
  }
 },
 "nbformat": 4,
 "nbformat_minor": 2
}
