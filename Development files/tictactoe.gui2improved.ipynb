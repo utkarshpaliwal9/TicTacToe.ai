{
 "cells": [
  {
   "cell_type": "code",
   "execution_count": 1,
   "metadata": {
    "collapsed": true
   },
   "outputs": [],
   "source": [
    "from tkinter import *\n",
    "import tkinter as tk\n",
    "import tkinter.messagebox"
   ]
  },
  {
   "cell_type": "code",
   "execution_count": 2,
   "metadata": {
    "collapsed": true
   },
   "outputs": [],
   "source": [
    "class SampleApp(tk.Tk):\n",
    "    def __init__(self):\n",
    "        tk.Tk.__init__(self)\n",
    "        self._frame = None\n",
    "        \n",
    "        self.switch_frame(StartPage)\n",
    "\n",
    "    def switch_frame(self, frame_class):\n",
    "        \"\"\"Destroys current frame and replaces it with a new one.\"\"\"\n",
    "        new_frame = frame_class(self)\n",
    "        if self._frame is not None:\n",
    "            self._frame.destroy()\n",
    "        self._frame = new_frame\n",
    "        self._frame.pack()\n",
    "        #print('1')"
   ]
  },
  {
   "cell_type": "code",
   "execution_count": 15,
   "metadata": {
    "collapsed": true
   },
   "outputs": [],
   "source": [
    "#val = 0\n",
    "#print(f'val set to {val}')\n",
    "class StartPage(tk.Frame):\n",
    "    def __init__(self, master):\n",
    "        tk.Frame.__init__(self, master)\n",
    "    \n",
    "        self.master = master\n",
    "        self.configure(background=\"spring green\")\n",
    "        tk.Label(self, text=\"WELCOME TO THE GAME\",bg=\"spring green\", fg=\"#ffffff\",font=(\"Courier\",24,'bold')).pack(side=\"top\", fill=\"x\", padx=70, pady=60)\n",
    "        tk.Label(self,text=\"Input numbers of players\",bg=\"spring green\", fg=\"#ffffff\", font=(\"Courier\",18, 'bold')).pack(side=\"left\",fill=\"x\" ,padx=10,pady=60)\n",
    "        global val,s\n",
    "        s = tk.Entry(self,bd=2)\n",
    "        s.pack(side=\"left\",fill=\"x\",pady=60)\n",
    "       \n",
    "        button1= tk.Button(self, text=\"Submit\",bg=\"springgreen4\", fg=\"#ffffff\",font=(\"Courier\",16),\n",
    "                  command=self.get_s)\n",
    "        button1.pack(padx=\"20\", pady=60)\n",
    "        print('2')\n",
    "        #print(val,s)\n",
    "        \n",
    "    def get_s(self):\n",
    "        print('In get func')\n",
    "        global val\n",
    "        val = int(s.get())\n",
    "        #val = val+1\n",
    "        '''print(f'In get_s, val = {val}')\n",
    "        print(val, type(val))  #REMOVE THIS LINE (DEBUGGING)'''\n",
    "        print('3')\n",
    "        self.master.switch_frame(PageOne)\n",
    "#print(val,s)"
   ]
  },
  {
   "cell_type": "code",
   "execution_count": 18,
   "metadata": {
    "collapsed": true
   },
   "outputs": [],
   "source": [
    "class PageOne(tk.Frame):\n",
    "    \n",
    "    \n",
    "    def __init__(self, master):\n",
    "       \n",
    "        tk.Frame.__init__(self, master)\n",
    "        \n",
    "        tk.Button(self, text=\"Return to start page\", command=lambda: master.switch_frame(StartPage)).pack()   \n",
    "        var = \"Welcome to TicTacToe.ai\"\n",
    "        #window.pack_propagate(0)\n",
    "        welcome = Label(app, text= var)\n",
    "        welcome.pack()\n",
    "        #print(val,s, \"in init\")\n",
    "        \n",
    "        frames = [0]*(val+1)\n",
    "        for i in range(val+1):\n",
    "            frames[i] = Frame(app)\n",
    "            frames[i].pack()\n",
    "        b = [[]*val for n in range(val+1)]\n",
    "\n",
    "        for i in range(val+1):\n",
    "            for j in range(val+1):\n",
    "                b[i].append(Button(frames[i], text=\"     \", padx=15, pady=15, bg=\"#ffffff\", command = place))\n",
    "\n",
    "        for i in range(val+1):\n",
    "            for j in range(val+1):\n",
    "                #print(f'i = {i} and j = {j}')\n",
    "                b[i][j].pack(side=LEFT)\n",
    "        print('PageOne Ends')"
   ]
  },
  {
   "cell_type": "code",
   "execution_count": 21,
   "metadata": {},
   "outputs": [
    {
     "name": "stdout",
     "output_type": "stream",
     "text": [
      "2\n",
      "1\n",
      "In get func\n",
      "3\n",
      "3 .!startpage.!entry in init\n",
      "PageOne Ends\n",
      "1\n"
     ]
    }
   ],
   "source": [
    "if __name__ == \"__main__\":\n",
    "    app = SampleApp()\n",
    "    app.title(\"TicTacToe.ai\")\n",
    "    app.geometry('700x700')\n",
    "    app.configure(background=\"spring green\")\n",
    "    app.mainloop()"
   ]
  },
  {
   "cell_type": "code",
   "execution_count": null,
   "metadata": {
    "collapsed": true
   },
   "outputs": [],
   "source": []
  },
  {
   "cell_type": "code",
   "execution_count": null,
   "metadata": {
    "collapsed": true
   },
   "outputs": [],
   "source": []
  },
  {
   "cell_type": "code",
   "execution_count": null,
   "metadata": {
    "collapsed": true
   },
   "outputs": [],
   "source": []
  }
 ],
 "metadata": {
  "kernelspec": {
   "display_name": "Python 3",
   "language": "python",
   "name": "python3"
  },
  "language_info": {
   "codemirror_mode": {
    "name": "ipython",
    "version": 3
   },
   "file_extension": ".py",
   "mimetype": "text/x-python",
   "name": "python",
   "nbconvert_exporter": "python",
   "pygments_lexer": "ipython3",
   "version": "3.6.3"
  }
 },
 "nbformat": 4,
 "nbformat_minor": 2
}
