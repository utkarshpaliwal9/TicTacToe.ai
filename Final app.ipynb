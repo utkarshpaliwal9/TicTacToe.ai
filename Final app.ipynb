{
 "cells": [
  {
   "cell_type": "code",
   "execution_count": 1,
   "metadata": {
    "collapsed": true
   },
   "outputs": [],
   "source": [
    "import numpy as np\n",
    "from tkinter import *\n",
    "import tkinter as tk\n",
    "import tkinter.messagebox\n",
    "from tkinter.font import Font"
   ]
  },
  {
   "cell_type": "code",
   "execution_count": 2,
   "metadata": {
    "collapsed": true
   },
   "outputs": [],
   "source": [
    "SYMBOLS = ['X', 'O', '*', '$', '#', '@', '&', '^','A','B','C','D','E','F','G','H','I']"
   ]
  },
  {
   "cell_type": "code",
   "execution_count": 3,
   "metadata": {
    "collapsed": true
   },
   "outputs": [],
   "source": [
    "class SampleApp(tk.Tk):\n",
    "    def __init__(self):\n",
    "        tk.Tk.__init__(self)\n",
    "        self._frame = None\n",
    "        \n",
    "        self.switch_frame(StartPage)\n",
    "\n",
    "    def switch_frame(self, frame_class):\n",
    "        \"\"\"Destroys current frame and replaces it with a new one.\"\"\"\n",
    "        new_frame = frame_class(self)\n",
    "        if self._frame is not None:\n",
    "            self._frame.destroy()\n",
    "        self._frame = new_frame\n",
    "        self._frame.pack()\n",
    "        #print('1')"
   ]
  },
  {
   "cell_type": "code",
   "execution_count": null,
   "metadata": {
    "collapsed": true
   },
   "outputs": [],
   "source": [
    "class StartPage(tk.Frame):\n",
    "    def __init__(self, master):\n",
    "        tk.Frame.__init__(self, master)\n",
    "    \n",
    "        self.master = master\n",
    "        self.configure(background=\"spring green\")\n",
    "        tk.Label(self, text=\"WELCOME TO THE GAME\",bg=\"spring green\", fg=\"#ffffff\",font=(\"Courier\",24,'bold')).pack(side=\"top\", fill=\"x\", padx=70, pady=60)\n",
    "        tk.Label(self,text=\"Input numbers of players\",bg=\"spring green\", fg=\"#ffffff\", font=(\"Courier\",18, 'bold')).pack(side=\"left\",fill=\"x\" ,padx=10,pady=60)\n",
    "        global val,s\n",
    "        s = tk.Entry(self,bd=2)\n",
    "        s.pack(side=\"left\",fill=\"x\",pady=60)\n",
    "       \n",
    "        button1= tk.Button(self, text=\"Submit\",bg=\"springgreen4\", fg=\"#ffffff\",font=(\"Courier\",16),\n",
    "                  command=self.get_s)\n",
    "        button1.pack(padx=\"20\", pady=60)\n",
    "        #print('2')\n",
    "        #print(val,s)\n",
    "        \n",
    "    def get_s(self):\n",
    "        #print('In get func')\n",
    "        global val\n",
    "        val = int(s.get())\n",
    "        #val = val+1\n",
    "        if val == 1:\n",
    "            import tictactoe_ai as TTT\n",
    "            TTT.GUI().mainloop()\n",
    "        else:\n",
    "            global mat\n",
    "            global symbols\n",
    "            global player\n",
    "            global players\n",
    "            global k\n",
    "            global size\n",
    "            size = val + 1\n",
    "            symbols = SYMBOLS[:size-1]\n",
    "            players = list(range(1,size))\n",
    "            player = 1\n",
    "            k = 1\n",
    "            mat = np.zeros((size,size), dtype = int)\n",
    "            print(f\"ALL VARIABLES ASSIGNED and player = {player}\")\n",
    "            self.master.switch_frame(PageOne)"
   ]
  },
  {
   "cell_type": "code",
   "execution_count": 5,
   "metadata": {
    "collapsed": true
   },
   "outputs": [],
   "source": [
    "class PageOne(tk.Frame):\n",
    "\n",
    "    def __init__(self, master):\n",
    "       \n",
    "        tk.Frame.__init__(self, master)\n",
    "        \n",
    "        tk.Button(self, text=\"Return to start page\", command=lambda: master.switch_frame(StartPage)).pack()   \n",
    "        #var = \"Welcome to TicTacToe.ai\"\n",
    "        global welcome, b\n",
    "        #window.pack_propagate(0)\n",
    "        welcome = Label(app, text=\"Welcome to TicTacToe.ai\")\n",
    "        welcome.pack()\n",
    "        #print(val,s, \"in init\")\n",
    "        \n",
    "        frames = [0]*(val+1)\n",
    "        for i in range(val+1):\n",
    "            frames[i] = Frame(app)\n",
    "            frames[i].pack()\n",
    "        b = [[]*val for n in range(val+1)]\n",
    "        button_pos = 1\n",
    "        for i in range(val+1):\n",
    "            for j in range(val+1):\n",
    "                btn_text = tk.StringVar()\n",
    "                b[i].append(Button(frames[i], textvariable=btn_text, padx=15, pady=15, bg=\"#ffffff\", command = lambda: place(1), font=Font(family=\"Helvetica\", size=32), width=2, height=1))\n",
    "                button_pos += 1\n",
    "\n",
    "        for i in range(val+1):\n",
    "            for j in range(val+1):\n",
    "                #print(f'i = {i} and j = {j}')\n",
    "                b[i][j].pack(side=LEFT)\n",
    "        #print('PageOne Ends')"
   ]
  },
  {
   "cell_type": "code",
   "execution_count": null,
   "metadata": {
    "collapsed": true
   },
   "outputs": [],
   "source": []
  },
  {
   "cell_type": "code",
   "execution_count": null,
   "metadata": {
    "collapsed": true
   },
   "outputs": [],
   "source": []
  },
  {
   "cell_type": "code",
   "execution_count": 6,
   "metadata": {
    "collapsed": true
   },
   "outputs": [],
   "source": [
    "def next_player(p):\n",
    "    p-=1\n",
    "    if p+1 == len(players):\n",
    "        return players[0], symbols[0]\n",
    "    else:\n",
    "        return players[p+1], symbols[p+1]"
   ]
  },
  {
   "cell_type": "code",
   "execution_count": 7,
   "metadata": {
    "collapsed": true
   },
   "outputs": [],
   "source": [
    "def check_board():\n",
    "    for r in range(size):\n",
    "        for c in range(size):\n",
    "            try:\n",
    "                if mat[r,c] == mat[r,c+1] == mat[r,c+2] != 0 and r+2>= 0 and c-2>=0:\n",
    "                    return mat[r,c]\n",
    "            except:\n",
    "                pass\n",
    "            try:\n",
    "                if  mat[r,c] == mat[r+1,c] == mat[r+2,c] != 0:\n",
    "                    return mat[r,c]\n",
    "            except:\n",
    "                pass\n",
    "            try:\n",
    "                if mat[r,c] == mat[r+1,c+1] == mat[r+2,c+2] != 0:\n",
    "                    return mat[r,c]\n",
    "            except:\n",
    "                pass\n",
    "            try:\n",
    "                if mat[r,c] == mat[r+1,c-1] == mat[r+2,c-2] != 0:\n",
    "                    return mat[r,c]\n",
    "            except:\n",
    "                pass\n",
    "    return None"
   ]
  },
  {
   "cell_type": "code",
   "execution_count": 8,
   "metadata": {
    "collapsed": true
   },
   "outputs": [],
   "source": [
    "def place(pos):\n",
    "        #pos = int(input(\"Enter position of your wish \"))\n",
    "        #print(f'player = {player}')\n",
    "        r = (pos-1)//size\n",
    "        c = (pos-1)%size\n",
    "        print(f'r,c and pos are = {r}, {c} and {pos}')\n",
    "        if mat[r][c] == 0:\n",
    "            mat[r][c] = player\n",
    "            b[r,c]['state'] = 'disabled'\n",
    "            winner = check_board()\n",
    "            if winner != None:\n",
    "                print(f'{symbols[winner-1]} wins !')\n",
    "                #DiSABLE ALL BUTTONS\n",
    "            player, sym = next_player(player)\n",
    "            if k<size**2:\n",
    "                welcome.config(text= \"{}'s turn.format(sym)\")\n",
    "            k+=1\n",
    "        else:\n",
    "            print(\"Position already taken\")"
   ]
  },
  {
   "cell_type": "code",
   "execution_count": null,
   "metadata": {
    "collapsed": true
   },
   "outputs": [],
   "source": [
    "size = int(input(\"Enter number of players \")) #Number of players should be <= 18\n",
    "ai_playing = False\n",
    "if size == 1:\n",
    "    '''players = [1,2]\n",
    "    size = 3\n",
    "    symbols = ['X', 'O']\n",
    "    ai_playing = True'''\n",
    "else:\n",
    "    size += 1\n",
    "    players = list(range(1,size))\n",
    "    SYMBOLS = ['X', 'O', '*', '$', '#', '@', '&', '^','A','B','C','D','E','F','G','H','I']\n",
    "    symbols = SYMBOLS[:size-1]\n",
    "\n",
    "#print(symbols)\n",
    "mat = np.zeros((size,size), dtype = int)\n",
    "#print(mat)\n",
    "player = 1\n",
    "k = 1"
   ]
  },
  {
   "cell_type": "code",
   "execution_count": null,
   "metadata": {
    "collapsed": true
   },
   "outputs": [],
   "source": [
    "while k<=size**2: # or check_board(player,pos):\n",
    "    if ai_playing and k%2==1:\n",
    "        place(player)\n",
    "    elif ai_playing:\n",
    "        r,c = findBestMove(mat)\n",
    "        mat[r,c] = 2\n",
    "    else:\n",
    "        place(player)\n",
    "    print(f'\\nk = {k} and now checking winner')\n",
    "    winner = check_board()\n",
    "    print(\"now displaying board()\")\n",
    "    disp_board()\n",
    "    #print(mat)\n",
    "    if winner != None:\n",
    "        print(f'{symbols[winner-1]} wins !')\n",
    "        break\n",
    "    player, sym = next_player(player)\n",
    "    if k<size**2:\n",
    "        print(f\"\\n{sym}'s turn\")\n",
    "    k+=1"
   ]
  },
  {
   "cell_type": "code",
   "execution_count": null,
   "metadata": {
    "scrolled": false
   },
   "outputs": [
    {
     "name": "stdout",
     "output_type": "stream",
     "text": [
      "ALL VARIABLES ASSIGNED and player = 1\n",
      "r,c and pos are = 0, 0 and 1\n"
     ]
    },
    {
     "name": "stderr",
     "output_type": "stream",
     "text": [
      "Exception in Tkinter callback\n",
      "Traceback (most recent call last):\n",
      "  File \"C:\\Users\\alien\\Anaconda3\\lib\\tkinter\\__init__.py\", line 1699, in __call__\n",
      "    return self.func(*args)\n",
      "  File \"<ipython-input-5-d95a5947ab48>\", line 24, in <lambda>\n",
      "    b[i].append(Button(frames[i], textvariable=btn_text, padx=15, pady=15, bg=\"#ffffff\", command = lambda: place(1), font=Font(family=\"Helvetica\", size=32), width=2, height=1))\n",
      "  File \"<ipython-input-8-cc2b42cb24ad>\", line 8, in place\n",
      "    mat[r][c] = player\n",
      "UnboundLocalError: local variable 'player' referenced before assignment\n"
     ]
    }
   ],
   "source": [
    "app = SampleApp()\n",
    "app.title(\"TicTacToe.ai\")\n",
    "app.geometry('700x700')\n",
    "app.configure(background=\"spring green\")\n",
    "app.mainloop()"
   ]
  },
  {
   "cell_type": "code",
   "execution_count": null,
   "metadata": {
    "collapsed": true
   },
   "outputs": [],
   "source": []
  }
 ],
 "metadata": {
  "kernelspec": {
   "display_name": "Python 3",
   "language": "python",
   "name": "python3"
  },
  "language_info": {
   "codemirror_mode": {
    "name": "ipython",
    "version": 3
   },
   "file_extension": ".py",
   "mimetype": "text/x-python",
   "name": "python",
   "nbconvert_exporter": "python",
   "pygments_lexer": "ipython3",
   "version": "3.6.3"
  }
 },
 "nbformat": 4,
 "nbformat_minor": 2
}
