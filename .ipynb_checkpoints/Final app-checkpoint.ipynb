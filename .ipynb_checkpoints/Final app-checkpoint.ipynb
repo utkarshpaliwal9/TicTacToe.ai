{
 "cells": [
  {
   "cell_type": "code",
   "execution_count": 1,
   "metadata": {
    "collapsed": true
   },
   "outputs": [],
   "source": [
    "import numpy as np\n",
    "from tkinter import *\n",
    "import tkinter as tk\n",
    "import tkinter.messagebox\n",
    "from tkinter.font import Font"
   ]
  },
  {
   "cell_type": "code",
   "execution_count": 16,
   "metadata": {
    "collapsed": true
   },
   "outputs": [],
   "source": [
    "SYMBOLS = ['X', 'O', '*', '$', '#', '@', '&', '^','A','B','C','D','E','F','G','H','I']\n",
    "player = 1\n",
    "k = 1\n",
    "sym = 'X'\n",
    "btn_text = []"
   ]
  },
  {
   "cell_type": "code",
   "execution_count": 12,
   "metadata": {
    "collapsed": true
   },
   "outputs": [],
   "source": [
    "class SampleApp(tk.Tk):\n",
    "    def __init__(self):\n",
    "        tk.Tk.__init__(self)\n",
    "        self._frame = None\n",
    "        \n",
    "        self.switch_frame(StartPage)\n",
    "\n",
    "    def switch_frame(self, frame_class):\n",
    "        \"\"\"Destroys current frame and replaces it with a new one.\"\"\"\n",
    "        new_frame = frame_class(self)\n",
    "        if self._frame is not None:\n",
    "            self._frame.destroy()\n",
    "        self._frame = new_frame\n",
    "        self._frame.pack()\n",
    "        #print('1')"
   ]
  },
  {
   "cell_type": "code",
   "execution_count": 13,
   "metadata": {
    "collapsed": true
   },
   "outputs": [],
   "source": [
    "class StartPage(tk.Frame):\n",
    "    def __init__(self, master):\n",
    "        tk.Frame.__init__(self, master)\n",
    "    \n",
    "        self.master = master\n",
    "        self.configure(background=\"spring green\")\n",
    "        tk.Label(self, text=\"WELCOME TO THE GAME\",bg=\"spring green\", fg=\"#ffffff\",font=(\"Courier\",24,'bold')).pack(side=\"top\", fill=\"x\", padx=70, pady=60)\n",
    "        tk.Label(self,text=\"Input numbers of players\",bg=\"spring green\", fg=\"#ffffff\", font=(\"Courier\",18, 'bold')).pack(side=\"left\",fill=\"x\" ,padx=10,pady=60)\n",
    "        global val,s\n",
    "        s = tk.Entry(self,bd=2)\n",
    "        s.pack(side=\"left\",fill=\"x\",pady=60)\n",
    "       \n",
    "        button1= tk.Button(self, text=\"Submit\",bg=\"springgreen4\", fg=\"#ffffff\",font=(\"Courier\",16),\n",
    "                  command=self.get_s)\n",
    "        button1.pack(padx=\"20\", pady=60)\n",
    "        #print('2')\n",
    "        #print(val,s)\n",
    "        \n",
    "    def get_s(self):\n",
    "        #print('In get func')\n",
    "        global val\n",
    "        val = int(s.get())\n",
    "        #val = val+1\n",
    "        if val == 1:\n",
    "            import tictactoe_ai as TTT\n",
    "            TTT.GUI().mainloop()\n",
    "        else:\n",
    "            global mat\n",
    "            global symbols\n",
    "            #global player\n",
    "            global players\n",
    "            #global k\n",
    "            global size\n",
    "            size = val + 1\n",
    "            symbols = SYMBOLS[:size-1]\n",
    "            players = list(range(1,size))\n",
    "            mat = np.zeros((size,size), dtype = int)\n",
    "            #print(f\"ALL VARIABLES ASSIGNED and player = {player}\")\n",
    "            self.master.switch_frame(PageOne)"
   ]
  },
  {
   "cell_type": "code",
   "execution_count": 17,
   "metadata": {},
   "outputs": [],
   "source": [
    "class PageOne(tk.Frame):\n",
    "\n",
    "    def __init__(self, master):\n",
    "       \n",
    "        tk.Frame.__init__(self, master)\n",
    "        \n",
    "        #tk.Button(self, text=\"Return to start page\", command=lambda: master.switch_frame(StartPage)).pack()   \n",
    "        #var = \"Welcome to TicTacToe.ai\"\n",
    "        global welcome, b\n",
    "        #window.pack_propagate(0)\n",
    "        welcome = Label(app, text=\"Welcome to TicTacToe.ai\")\n",
    "        welcome.pack()\n",
    "        #print(val,s, \"in init\")\n",
    "        \n",
    "        frames = [0]*(val+1)\n",
    "        for i in range(val+1):\n",
    "            frames[i] = Frame(app)\n",
    "            frames[i].pack()\n",
    "        b = [[]*val for n in range(val+1)]\n",
    "        button_pos = 1\n",
    "        global btn_text\n",
    "        btn_text = [[] for n in range(val+1)]\n",
    "        for i in range(val+1):\n",
    "            for j in range(val+1):\n",
    "                btn_text[i].append(tk.StringVar())\n",
    "        for i in range(val+1):\n",
    "            for j in range(val+1):\n",
    "                b[i].append(Button(frames[i], textvariable=btn_text[i][j], padx=15, pady=15, bg=\"#ffffff\", command = lambda i=i,j=j: place(i,j), font=Font(family=\"Helvetica\", size=32), width=2, height=1))\n",
    "                '''button = Button(self, textvariable=btn_text, padx=15, pady=15, bg=\"#ffffff\", command = lambda i=i,j=j: place(i,j), font=Font(family=\"Helvetica\", size=32), width=2, height=1)\n",
    "                button.grid(row=i, column=j)'''\n",
    "                #print(f'row and column are = {i}, {j}')\n",
    "                #b[i][j].grid(row=i, column=j)\n",
    "                button_pos += 1\n",
    "\n",
    "        for i in range(val+1):\n",
    "            for j in range(val+1):\n",
    "                #print(f'i = {i} and j = {j}')\n",
    "                b[i][j].pack(side=LEFT)\n",
    "        #print('PageOne Ends')"
   ]
  },
  {
   "cell_type": "code",
   "execution_count": 6,
   "metadata": {
    "collapsed": true
   },
   "outputs": [],
   "source": [
    "def next_player(p):\n",
    "    p-=1\n",
    "    if p+1 == len(players):\n",
    "        return players[0], symbols[0]\n",
    "    else:\n",
    "        return players[p+1], symbols[p+1]"
   ]
  },
  {
   "cell_type": "code",
   "execution_count": 7,
   "metadata": {
    "collapsed": true
   },
   "outputs": [],
   "source": [
    "def check_board():\n",
    "    for r in range(size):\n",
    "        for c in range(size):\n",
    "            try:\n",
    "                if mat[r,c] == mat[r,c+1] == mat[r,c+2] != 0:\n",
    "                    return mat[r,c]\n",
    "            except:\n",
    "                pass\n",
    "            try:\n",
    "                if  mat[r,c] == mat[r+1,c] == mat[r+2,c] != 0:\n",
    "                    return mat[r,c]\n",
    "            except:\n",
    "                pass\n",
    "            try:\n",
    "                if mat[r,c] == mat[r+1,c+1] == mat[r+2,c+2] != 0:\n",
    "                    return mat[r,c]\n",
    "            except:\n",
    "                pass\n",
    "            try:\n",
    "                if mat[r,c] == mat[r+1,c-1] == mat[r+2,c-2] != 0:\n",
    "                    return mat[r,c]\n",
    "            except:\n",
    "                pass\n",
    "    return None"
   ]
  },
  {
   "cell_type": "code",
   "execution_count": 15,
   "metadata": {},
   "outputs": [],
   "source": [
    "def place(r,c):\n",
    "        #pos = int(input(\"Enter position of your wish \"))\n",
    "        #print(f'player = {player}')\n",
    "        #r = (pos-1)//size\n",
    "        #c = (pos-1)%size\n",
    "        #print(f'r,c are = {r}, {c}')\n",
    "        global player,k, sym, btn_text\n",
    "        if mat[r][c] == 0:\n",
    "            mat[r][c] = player\n",
    "            #b[r][c].config(text=sym)\n",
    "            #print(f'r and c are = {r}, {c}')\n",
    "            b[r][c]['state'] = 'disabled'\n",
    "            #b[r][c]['text'] = sym\n",
    "            btn_text[r][c].set(sym)\n",
    "            player, sym = next_player(player)\n",
    "            #print(f'sym = {sym}')\n",
    "            winner = check_board()\n",
    "            if winner != None:\n",
    "                #print(f'{symbols[winner-1]} wins !')\n",
    "                welcome.config(text= '{} wins !'.format(symbols[winner-1]))\n",
    "                #DiSABLE ALL BUTTONS\n",
    "            elif k<size**2:\n",
    "                welcome.config(text= \"{}'s turn\".format(sym))\n",
    "            k+=1\n",
    "        else:\n",
    "            print(\"Position already taken\")"
   ]
  },
  {
   "cell_type": "code",
   "execution_count": 18,
   "metadata": {
    "scrolled": false
   },
   "outputs": [],
   "source": [
    "if __name__ == \"__main__\":\n",
    "    app = SampleApp()\n",
    "    app.title(\"TicTacToe.ai\")\n",
    "    app.geometry('700x700')\n",
    "    app.configure(background=\"spring green\")\n",
    "    app.mainloop()"
   ]
  },
  {
   "cell_type": "code",
   "execution_count": null,
   "metadata": {},
   "outputs": [],
   "source": []
  },
  {
   "cell_type": "code",
   "execution_count": null,
   "metadata": {
    "collapsed": true
   },
   "outputs": [],
   "source": []
  }
 ],
 "metadata": {
  "kernelspec": {
   "display_name": "Python 3",
   "language": "python",
   "name": "python3"
  },
  "language_info": {
   "codemirror_mode": {
    "name": "ipython",
    "version": 3
   },
   "file_extension": ".py",
   "mimetype": "text/x-python",
   "name": "python",
   "nbconvert_exporter": "python",
   "pygments_lexer": "ipython3",
   "version": "3.6.3"
  }
 },
 "nbformat": 4,
 "nbformat_minor": 2
}
