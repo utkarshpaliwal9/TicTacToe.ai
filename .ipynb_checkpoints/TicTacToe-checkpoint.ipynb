{
 "cells": [
  {
   "cell_type": "code",
   "execution_count": null,
   "metadata": {
    "collapsed": true
   },
   "outputs": [],
   "source": [
    "import numpy as np"
   ]
  },
  {
   "cell_type": "markdown",
   "metadata": {},
   "source": [
    " Below Cell Outputs the dynamic user interface"
   ]
  },
  {
   "cell_type": "code",
   "execution_count": null,
   "metadata": {
    "collapsed": true
   },
   "outputs": [],
   "source": [
    "from tkinter import *\n",
    "s = 4 #TAKE THIS AS INPUT\n",
    "\n",
    "root1 = Tk()\n",
    "root1.title(\"TicTacToe.ai\")\n",
    "var = \"Welcome to TicTacToe.ai\"\n",
    "#window.pack_propagate(0)\n",
    "welcome = Label(root1, text= var)\n",
    "welcome.pack()\n",
    "frames = [0]*s\n",
    "for i in range(s):\n",
    "    frames[i] = Frame(root1)\n",
    "    frames[i].pack()\n",
    "\n",
    "b = [[]*s for n in range(s)]\n",
    "\n",
    "#print(b)\n",
    "for i in range(s):\n",
    "    for j in range(s):\n",
    "        b[i].append(Button(frames[i], text=str('X')))\n",
    "\n",
    "for i in range(s):\n",
    "    for j in range(s):\n",
    "        #print(f'i = {i} and j = {j}')\n",
    "        b[i][j].pack(side=LEFT)\n",
    "        \n",
    "root1.mainloop()"
   ]
  },
  {
   "cell_type": "code",
   "execution_count": null,
   "metadata": {},
   "outputs": [],
   "source": [
    "size = int(input(\"Enter number of players \")) #Number of players should be <= 18\n",
    "size += 1\n",
    "players = list(range(1,size))\n",
    "SYMBOLS = ['X', 'O', '*', '$', '#', '@', '&', '^','A','B','C','D','E','F','G','H','I']\n",
    "symbols = SYMBOLS[:size-1]\n",
    "print(symbols)\n",
    "mat = np.zeros((size,size), dtype = int)\n",
    "print(mat)\n",
    "player = 1\n",
    "k = 1"
   ]
  },
  {
   "cell_type": "markdown",
   "metadata": {},
   "source": [
    "'*size*' variable contains size of grid (size *size*)<br>\n",
    "'*players*' is a list of numbers denoting various players in the game<br>\n",
    "'*mat*' is the board containing the grid<br>\n",
    "'*k*' counts the number of turns played in the game<br>"
   ]
  },
  {
   "cell_type": "code",
   "execution_count": null,
   "metadata": {
    "collapsed": true
   },
   "outputs": [],
   "source": [
    "def next_player(p):\n",
    "    p-=1\n",
    "    if p+1 == len(players):\n",
    "        return players[0], symbols[0]\n",
    "    else:\n",
    "        return players[p+1], symbols[p+1]"
   ]
  },
  {
   "cell_type": "code",
   "execution_count": null,
   "metadata": {
    "collapsed": true
   },
   "outputs": [],
   "source": [
    "def disp_board():\n",
    "    for i in range(size):\n",
    "        for j in range(size):\n",
    "            val = mat[i,j]\n",
    "            if val != 0:\n",
    "                print(f\"{symbols[val-1]} \", end=\"\")\n",
    "            else:\n",
    "                print(\"_ \", end=\"\")\n",
    "        print(\"\\n\")"
   ]
  },
  {
   "cell_type": "markdown",
   "metadata": {},
   "source": [
    "THE FUNCTION BELOW DOESN'T WORK AS EXPECTED YET. To be corrected"
   ]
  },
  {
   "cell_type": "code",
   "execution_count": null,
   "metadata": {
    "collapsed": true
   },
   "outputs": [],
   "source": [
    "def check_board():\n",
    "    for r in range(size):\n",
    "        for c in range(size):\n",
    "            try:\n",
    "                if mat[r,c] == mat[r,c+1] == mat[r,c+2] != 0:\n",
    "                    return mat[r,c]\n",
    "                elif  mat[r,c] == mat[r+1,c] == mat[r+2,c] != 0:\n",
    "                    return mat[r,c]\n",
    "                elif mat[r,c] == mat[r+1,c+1] == mat[r+2,c+2] != 0:\n",
    "                    return mat[r,c]\n",
    "                elif mat[r,c] == mat[r-1,c-1] == mat[r-2,c-2] != 0:\n",
    "                    return mat[r,c]\n",
    "            except:\n",
    "                continue\n",
    "        return None"
   ]
  },
  {
   "cell_type": "code",
   "execution_count": null,
   "metadata": {},
   "outputs": [],
   "source": [
    "while k<=size**2: # or check_board(player,pos):\n",
    "    pos = int(input(\"Enter position of your wish \"))\n",
    "    r = (pos-1)//size\n",
    "    c = (pos-1)%size\n",
    "    if mat[r][c] == 0:\n",
    "        mat[r][c] = player\n",
    "    else:\n",
    "        print(\"Position already taken\")\n",
    "        continue\n",
    "    winner = check_board()\n",
    "    disp_board()\n",
    "    #print(mat)\n",
    "    if winner != None:\n",
    "        print(f'{symbols[winner-1]} wins !')\n",
    "        break\n",
    "    player, sym = next_player(player)\n",
    "    if k<size**2:\n",
    "        print(f\"\\n{sym}'s turn\")\n",
    "    k+=1"
   ]
  },
  {
   "cell_type": "code",
   "execution_count": null,
   "metadata": {},
   "outputs": [],
   "source": [
    "#TEMPORARY CELL\n",
    "dwkjb = np.arange(1,size*size+1).reshape((size,size))\n",
    "print(dwkjb)\n",
    "for pos in range(1,17):\n",
    "    #pos = int(input(\"Enter element to know its location \"))\n",
    "    r = (pos-1)//size\n",
    "    c = (pos-1)%size\n",
    "    print(f'{pos} is at {(r,c)}')"
   ]
  },
  {
   "cell_type": "markdown",
   "metadata": {},
   "source": [
    "We find two important formulas from the above code. How to convert position into the index of the element in the actual matrix?<br>\n",
    "row = (pos-1)//size<br>\n",
    "column = (pos-1)%size<br>\n",
    "where pos is the position of the element !<br>"
   ]
  },
  {
   "cell_type": "code",
   "execution_count": null,
   "metadata": {
    "collapsed": true
   },
   "outputs": [],
   "source": []
  },
  {
   "cell_type": "code",
   "execution_count": null,
   "metadata": {
    "collapsed": true
   },
   "outputs": [],
   "source": []
  },
  {
   "cell_type": "code",
   "execution_count": null,
   "metadata": {
    "collapsed": true
   },
   "outputs": [],
   "source": []
  },
  {
   "cell_type": "code",
   "execution_count": null,
   "metadata": {
    "collapsed": true
   },
   "outputs": [],
   "source": []
  },
  {
   "cell_type": "code",
   "execution_count": null,
   "metadata": {
    "collapsed": true
   },
   "outputs": [],
   "source": []
  },
  {
   "cell_type": "code",
   "execution_count": null,
   "metadata": {
    "collapsed": true
   },
   "outputs": [],
   "source": [
    "root = Tk()\n",
    "root.title(\"TicTacToe.ai\")\n",
    "var = \"Welcome to TicTacToe.ai\"\n",
    "#window.pack_propagate(0)\n",
    "welcome = Label(root, text= var)\n",
    "welcome.pack()\n",
    "top = Frame(root)\n",
    "top.pack()\n",
    "mid = Frame(root)\n",
    "mid.pack(side = BOTTOM)\n",
    "bottom = Frame(root)\n",
    "bottom.pack(side = BOTTOM)\n",
    "\n",
    "b1 = Button(top, text=\"1\")\n",
    "b2 = Button(top, text=\"2\")\n",
    "b3 = Button(top, text=\"3\")\n",
    "b4 = Button(mid, text=\"4\")\n",
    "b5 = Button(mid, text=\"5\")\n",
    "b6 = Button(mid, text=\"6\")\n",
    "b7 = Button(bottom, text=\"7\")\n",
    "b8 = Button(bottom, text=\"8\")\n",
    "b9 = Button(bottom, text=\"9\")\n",
    "\n",
    "b1.pack(side = LEFT)\n",
    "b2.pack(side = LEFT)\n",
    "b3.pack(side = LEFT)\n",
    "b4.pack(side = LEFT)\n",
    "b5.pack(side = LEFT)\n",
    "b6.pack(side = LEFT)\n",
    "b7.pack(side = LEFT)\n",
    "b8.pack(side = LEFT)\n",
    "b9.pack(side = LEFT)\n",
    "\n",
    "root.mainloop()"
   ]
  }
 ],
 "metadata": {
  "kernelspec": {
   "display_name": "Python 3",
   "language": "python",
   "name": "python3"
  },
  "language_info": {
   "codemirror_mode": {
    "name": "ipython",
    "version": 3
   },
   "file_extension": ".py",
   "mimetype": "text/x-python",
   "name": "python",
   "nbconvert_exporter": "python",
   "pygments_lexer": "ipython3",
   "version": "3.6.3"
  }
 },
 "nbformat": 4,
 "nbformat_minor": 2
}
