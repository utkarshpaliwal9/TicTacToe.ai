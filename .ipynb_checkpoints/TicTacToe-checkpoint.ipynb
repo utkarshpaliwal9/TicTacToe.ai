{
 "cells": [
  {
   "cell_type": "code",
   "execution_count": 1,
   "metadata": {
    "collapsed": true
   },
   "outputs": [],
   "source": [
    "import numpy as np\n",
    "from tkinter import *"
   ]
  },
  {
   "cell_type": "code",
   "execution_count": 15,
   "metadata": {
    "collapsed": true
   },
   "outputs": [],
   "source": [
    "root = Tk()\n",
    "root.title(\"TicTacToe.ai\")\n",
    "var = \"Welcome to TicTacToe.ai\"\n",
    "#window.pack_propagate(0)\n",
    "welcome = Label(root, text= var)\n",
    "welcome.pack()\n",
    "top = Frame(root)\n",
    "top.pack()\n",
    "mid = Frame(root)\n",
    "mid.pack(side = BOTTOM)\n",
    "bottom = Frame(root)\n",
    "bottom.pack(side = BOTTOM)\n",
    "\n",
    "b1 = Button(top, text=\"1\")\n",
    "b2 = Button(top, text=\"2\")\n",
    "b3 = Button(top, text=\"3\")\n",
    "b4 = Button(mid, text=\"4\")\n",
    "b5 = Button(mid, text=\"5\")\n",
    "b6 = Button(mid, text=\"6\")\n",
    "b7 = Button(bottom, text=\"7\")\n",
    "b8 = Button(bottom, text=\"8\")\n",
    "b9 = Button(bottom, text=\"9\")\n",
    "\n",
    "b1.pack(side = LEFT)\n",
    "b2.pack(side = LEFT)\n",
    "b3.pack(side = LEFT)\n",
    "b4.pack(side = LEFT)\n",
    "b5.pack(side = LEFT)\n",
    "b6.pack(side = LEFT)\n",
    "b7.pack(side = LEFT)\n",
    "b8.pack(side = LEFT)\n",
    "b9.pack(side = LEFT)\n",
    "\n",
    "window.mainloop()"
   ]
  },
  {
   "cell_type": "code",
   "execution_count": 7,
   "metadata": {
    "collapsed": true
   },
   "outputs": [],
   "source": [
    "def next_player(p):\n",
    "    p-=1\n",
    "    if p<size-1:\n",
    "        p = players[p]\n",
    "    else:\n",
    "        p=0\n",
    "    return players[p]"
   ]
  },
  {
   "cell_type": "code",
   "execution_count": 8,
   "metadata": {
    "collapsed": true
   },
   "outputs": [],
   "source": [
    "def disp(mat):\n",
    "    print(mat.reshape((size,size)))"
   ]
  },
  {
   "cell_type": "code",
   "execution_count": 9,
   "metadata": {},
   "outputs": [
    {
     "name": "stdout",
     "output_type": "stream",
     "text": [
      "Enter number of players 3\n",
      "[[0 0 0 0]\n",
      " [0 0 0 0]\n",
      " [0 0 0 0]\n",
      " [0 0 0 0]]\n"
     ]
    }
   ],
   "source": [
    "size = int(input(\"Enter number of players \"))\n",
    "size += 1\n",
    "players = list(range(1,size))\n",
    "mat = np.zeros((size*size), dtype = int)\n",
    "disp(mat)\n",
    "player = 1\n",
    "k = 1"
   ]
  },
  {
   "cell_type": "code",
   "execution_count": 5,
   "metadata": {},
   "outputs": [
    {
     "data": {
      "text/plain": [
       "[1, 2, 3]"
      ]
     },
     "execution_count": 5,
     "metadata": {},
     "output_type": "execute_result"
    }
   ],
   "source": [
    "players"
   ]
  },
  {
   "cell_type": "code",
   "execution_count": 10,
   "metadata": {},
   "outputs": [
    {
     "name": "stdout",
     "output_type": "stream",
     "text": [
      "Enter position of your wish 1\n",
      "[[1 0 0 0]\n",
      " [0 0 0 0]\n",
      " [0 0 0 0]\n",
      " [0 0 0 0]]\n",
      "2's turn\n",
      "Enter position of your wish 2\n",
      "[[1 2 0 0]\n",
      " [0 0 0 0]\n",
      " [0 0 0 0]\n",
      " [0 0 0 0]]\n",
      "3's turn\n",
      "Enter position of your wish 3\n"
     ]
    },
    {
     "ename": "IndexError",
     "evalue": "list index out of range",
     "output_type": "error",
     "traceback": [
      "\u001b[1;31m---------------------------------------------------------------------------\u001b[0m",
      "\u001b[1;31mIndexError\u001b[0m                                Traceback (most recent call last)",
      "\u001b[1;32m<ipython-input-10-cbb3f5cdc64b>\u001b[0m in \u001b[0;36m<module>\u001b[1;34m()\u001b[0m\n\u001b[0;32m      6\u001b[0m         \u001b[0mprint\u001b[0m\u001b[1;33m(\u001b[0m\u001b[1;34m\"Position already taken\"\u001b[0m\u001b[1;33m)\u001b[0m\u001b[1;33m\u001b[0m\u001b[0m\n\u001b[0;32m      7\u001b[0m         \u001b[1;32mcontinue\u001b[0m\u001b[1;33m\u001b[0m\u001b[0m\n\u001b[1;32m----> 8\u001b[1;33m     \u001b[0mplayer\u001b[0m \u001b[1;33m=\u001b[0m \u001b[0mnext_player\u001b[0m\u001b[1;33m(\u001b[0m\u001b[0mplayer\u001b[0m\u001b[1;33m)\u001b[0m\u001b[1;33m\u001b[0m\u001b[0m\n\u001b[0m\u001b[0;32m      9\u001b[0m     \u001b[0mdisp\u001b[0m\u001b[1;33m(\u001b[0m\u001b[0mmat\u001b[0m\u001b[1;33m)\u001b[0m\u001b[1;33m\u001b[0m\u001b[0m\n\u001b[0;32m     10\u001b[0m     \u001b[1;32mif\u001b[0m \u001b[0mk\u001b[0m\u001b[1;33m<\u001b[0m\u001b[0msize\u001b[0m\u001b[1;33m**\u001b[0m\u001b[1;36m2\u001b[0m\u001b[1;33m:\u001b[0m\u001b[1;33m\u001b[0m\u001b[0m\n",
      "\u001b[1;32m<ipython-input-7-b47585a95700>\u001b[0m in \u001b[0;36mnext_player\u001b[1;34m(p)\u001b[0m\n\u001b[0;32m      5\u001b[0m     \u001b[1;32melse\u001b[0m\u001b[1;33m:\u001b[0m\u001b[1;33m\u001b[0m\u001b[0m\n\u001b[0;32m      6\u001b[0m         \u001b[0mp\u001b[0m\u001b[1;33m=\u001b[0m\u001b[1;36m0\u001b[0m\u001b[1;33m\u001b[0m\u001b[0m\n\u001b[1;32m----> 7\u001b[1;33m     \u001b[1;32mreturn\u001b[0m \u001b[0mplayers\u001b[0m\u001b[1;33m[\u001b[0m\u001b[0mp\u001b[0m\u001b[1;33m]\u001b[0m\u001b[1;33m\u001b[0m\u001b[0m\n\u001b[0m",
      "\u001b[1;31mIndexError\u001b[0m: list index out of range"
     ]
    }
   ],
   "source": [
    "while k<=size**2:# or check_board(player,pos):\n",
    "    pos = int(input(\"Enter position of your wish \"))\n",
    "    if mat[pos-1] == 0:\n",
    "        mat[pos-1] = player\n",
    "    else:\n",
    "        print(\"Position already taken\")\n",
    "        continue\n",
    "    player = next_player(player)\n",
    "    disp(mat)\n",
    "    if k<size**2:\n",
    "        print(f\"{player}'s turn\")\n",
    "    k+=1"
   ]
  },
  {
   "cell_type": "code",
   "execution_count": 19,
   "metadata": {},
   "outputs": [
    {
     "name": "stdout",
     "output_type": "stream",
     "text": [
      "X O X O\n",
      "X O X O\n",
      "X O X O\n",
      "X O X O\n"
     ]
    }
   ],
   "source": [
    "disp_board()"
   ]
  },
  {
   "cell_type": "code",
   "execution_count": 12,
   "metadata": {},
   "outputs": [
    {
     "name": "stdout",
     "output_type": "stream",
     "text": [
      "[ 1 -1  1 -1  1 -1  1 -1  1 -1  1 -1  1 -1  1 -1]\n"
     ]
    }
   ],
   "source": [
    "print(mat)"
   ]
  },
  {
   "cell_type": "code",
   "execution_count": 13,
   "metadata": {},
   "outputs": [
    {
     "data": {
      "text/plain": [
       "array([ 0,  1,  2,  3,  4,  5,  6,  7,  8,  9, 10, 11, 12, 13, 14, 15])"
      ]
     },
     "execution_count": 13,
     "metadata": {},
     "output_type": "execute_result"
    }
   ],
   "source": [
    "np.arange(16)"
   ]
  },
  {
   "cell_type": "code",
   "execution_count": null,
   "metadata": {
    "collapsed": true
   },
   "outputs": [],
   "source": []
  },
  {
   "cell_type": "code",
   "execution_count": 26,
   "metadata": {},
   "outputs": [
    {
     "name": "stdout",
     "output_type": "stream",
     "text": [
      "[[  1.   2.   3.   4.]\n",
      " [  5.   6.   7.   8.]\n",
      " [  9.  10.  11.  12.]\n",
      " [ 13.  14.  15.  16.]]\n"
     ]
    }
   ],
   "source": [
    "size = 4\n",
    "mat = np.zeros((size,size))\n",
    "k = 1\n",
    "for i in range(size**2):\n",
    "    for j in range(size):\n",
    "        mat[i,j] = k\n",
    "        k+=1\n",
    "k = 0\n",
    "\n",
    "#mat = np.zeros((size,size), dtype = int)\n",
    "print(mat)"
   ]
  },
  {
   "cell_type": "code",
   "execution_count": 18,
   "metadata": {
    "collapsed": true
   },
   "outputs": [],
   "source": [
    "def disp_board():\n",
    "    v = \" \"\n",
    "    for i in range(size**2):\n",
    "        c = mat[i]\n",
    "        if c!=0:\n",
    "            c = 'X' if c==1 else 'O'\n",
    "        if (i+1)%4 == 0:\n",
    "            v = '\\n'\n",
    "        print(c, end=v)\n",
    "        v = \" \""
   ]
  },
  {
   "cell_type": "code",
   "execution_count": null,
   "metadata": {
    "collapsed": true
   },
   "outputs": [],
   "source": [
    "def check_board(player, pos):\n",
    "    temp = mat.reshape((size,size))\n",
    "    if\n",
    "    '''for i in range(size):\n",
    "        for j in range(size):'''\n",
    "    #try:\n",
    "        #look in all directions\n",
    "        #if mat[]"
   ]
  },
  {
   "cell_type": "code",
   "execution_count": null,
   "metadata": {
    "collapsed": true
   },
   "outputs": [],
   "source": [
    "place(1,1)"
   ]
  },
  {
   "cell_type": "code",
   "execution_count": null,
   "metadata": {
    "collapsed": true
   },
   "outputs": [],
   "source": [
    "m = np.zeros((2,2), dtype=[('x', 'i4'), ('y', 'i4')]) # custom dtype\n",
    "print(m)"
   ]
  },
  {
   "cell_type": "code",
   "execution_count": null,
   "metadata": {
    "collapsed": true
   },
   "outputs": [],
   "source": [
    "def place(r,p):\n",
    "    if r<4:\n",
    "        mat[0,r-1] = player\n",
    "    elif r<7:\n",
    "        mat[1,r-3] = player\n",
    "    else:\n",
    "        mat[2,r-6] = player"
   ]
  },
  {
   "cell_type": "code",
   "execution_count": null,
   "metadata": {
    "collapsed": true
   },
   "outputs": [],
   "source": [
    "player = 1\n",
    "while True:\n",
    "    disp_board()\n",
    "    r = int(input(\"Enter your choice \"))\n",
    "    place(r,player)\n",
    "    player = -player\n",
    "    #USE var.set(\"X's turn\") etc. in GUI\n",
    "    if k>=9:    #When board is full i.e. Game Completed\n",
    "        disp_winner()"
   ]
  },
  {
   "cell_type": "code",
   "execution_count": null,
   "metadata": {
    "collapsed": true
   },
   "outputs": [],
   "source": []
  },
  {
   "cell_type": "code",
   "execution_count": null,
   "metadata": {
    "collapsed": true
   },
   "outputs": [],
   "source": []
  },
  {
   "cell_type": "code",
   "execution_count": null,
   "metadata": {
    "collapsed": true
   },
   "outputs": [],
   "source": []
  },
  {
   "cell_type": "code",
   "execution_count": null,
   "metadata": {
    "collapsed": true
   },
   "outputs": [],
   "source": []
  },
  {
   "cell_type": "code",
   "execution_count": null,
   "metadata": {
    "collapsed": true
   },
   "outputs": [],
   "source": []
  },
  {
   "cell_type": "code",
   "execution_count": null,
   "metadata": {
    "collapsed": true
   },
   "outputs": [],
   "source": []
  },
  {
   "cell_type": "code",
   "execution_count": null,
   "metadata": {
    "collapsed": true
   },
   "outputs": [],
   "source": []
  }
 ],
 "metadata": {
  "kernelspec": {
   "display_name": "Python 3",
   "language": "python",
   "name": "python3"
  },
  "language_info": {
   "codemirror_mode": {
    "name": "ipython",
    "version": 3
   },
   "file_extension": ".py",
   "mimetype": "text/x-python",
   "name": "python",
   "nbconvert_exporter": "python",
   "pygments_lexer": "ipython3",
   "version": "3.6.3"
  }
 },
 "nbformat": 4,
 "nbformat_minor": 2
}
