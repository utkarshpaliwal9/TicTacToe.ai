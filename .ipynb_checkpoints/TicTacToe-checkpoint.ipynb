{
 "cells": [
  {
   "cell_type": "code",
   "execution_count": null,
   "metadata": {
    "collapsed": true
   },
   "outputs": [],
   "source": [
    "import numpy as np\n",
    "from tkinter import *"
   ]
  },
  {
   "cell_type": "code",
   "execution_count": 35,
   "metadata": {},
   "outputs": [
    {
     "name": "stdout",
     "output_type": "stream",
     "text": [
      "[[], [], []]\n"
     ]
    }
   ],
   "source": [
    "s = 3 #TAKE THIS AS INPUT\n",
    "\n",
    "root1 = Tk()\n",
    "root1.title(\"TicTacToe.ai\")\n",
    "var = \"Welcome to TicTacToe.ai\"\n",
    "#window.pack_propagate(0)\n",
    "welcome = Label(root1, text= var)\n",
    "welcome.pack()\n",
    "frames = [0]*s\n",
    "for i in range(s):\n",
    "    frames[i] = Frame(root1)\n",
    "    frames[i].pack()\n",
    "    \n",
    "    \n",
    "'''top = Frame(root1)\n",
    "top.pack()\n",
    "mid = Frame(root1)\n",
    "mid.pack(side = BOTTOM)\n",
    "bottom = Frame(root1)\n",
    "bottom.pack(side = BOTTOM)'''\n",
    "\n",
    "b = [[]*s for n in range(s)]\n",
    "\n",
    "print(b)\n",
    "for i in range(s):\n",
    "    for j in range(s):\n",
    "        b[i].append(Button(frames[i], text=str('X')))\n",
    "\n",
    "for i in range(s):\n",
    "    for j in range(s):\n",
    "        #print(f'i = {i} and j = {j}')\n",
    "        b[i][j].pack(side=LEFT)\n",
    "        \n",
    "root1.mainloop()"
   ]
  },
  {
   "cell_type": "code",
   "execution_count": null,
   "metadata": {
    "collapsed": true
   },
   "outputs": [],
   "source": [
    "def next_player(p):\n",
    "    p-=1\n",
    "    if p<size-1:\n",
    "        p = players[p]\n",
    "    else:\n",
    "        p=0\n",
    "    return players[p]"
   ]
  },
  {
   "cell_type": "code",
   "execution_count": null,
   "metadata": {
    "collapsed": true
   },
   "outputs": [],
   "source": [
    "def disp(mat):\n",
    "    print(mat.reshape((size,size)))"
   ]
  },
  {
   "cell_type": "code",
   "execution_count": null,
   "metadata": {},
   "outputs": [],
   "source": [
    "size = int(input(\"Enter number of players \"))\n",
    "size += 1\n",
    "players = list(range(1,size))\n",
    "mat = np.zeros((size*size), dtype = int)\n",
    "disp(mat)\n",
    "player = 1\n",
    "k = 1"
   ]
  },
  {
   "cell_type": "code",
   "execution_count": null,
   "metadata": {},
   "outputs": [],
   "source": [
    "players"
   ]
  },
  {
   "cell_type": "code",
   "execution_count": null,
   "metadata": {},
   "outputs": [],
   "source": [
    "while k<=size**2:# or check_board(player,pos):\n",
    "    pos = int(input(\"Enter position of your wish \"))\n",
    "    if mat[pos-1] == 0:\n",
    "        mat[pos-1] = player\n",
    "    else:\n",
    "        print(\"Position already taken\")\n",
    "        continue\n",
    "    player = next_player(player)\n",
    "    disp(mat)\n",
    "    if k<size**2:\n",
    "        print(f\"{player}'s turn\")\n",
    "    k+=1"
   ]
  },
  {
   "cell_type": "code",
   "execution_count": null,
   "metadata": {},
   "outputs": [],
   "source": [
    "disp_board()"
   ]
  },
  {
   "cell_type": "code",
   "execution_count": null,
   "metadata": {},
   "outputs": [],
   "source": [
    "print(mat)"
   ]
  },
  {
   "cell_type": "code",
   "execution_count": null,
   "metadata": {},
   "outputs": [],
   "source": [
    "np.arange(16)"
   ]
  },
  {
   "cell_type": "code",
   "execution_count": null,
   "metadata": {
    "collapsed": true
   },
   "outputs": [],
   "source": []
  },
  {
   "cell_type": "code",
   "execution_count": null,
   "metadata": {},
   "outputs": [],
   "source": [
    "size = 4\n",
    "mat = np.zeros((size,size))\n",
    "k = 1\n",
    "for i in range(size**2):\n",
    "    for j in range(size):\n",
    "        mat[i,j] = k\n",
    "        k+=1\n",
    "k = 0\n",
    "\n",
    "#mat = np.zeros((size,size), dtype = int)\n",
    "print(mat)"
   ]
  },
  {
   "cell_type": "code",
   "execution_count": null,
   "metadata": {
    "collapsed": true
   },
   "outputs": [],
   "source": [
    "def disp_board():\n",
    "    v = \" \"\n",
    "    for i in range(size**2):\n",
    "        c = mat[i]\n",
    "        if c!=0:\n",
    "            c = 'X' if c==1 else 'O'\n",
    "        if (i+1)%4 == 0:\n",
    "            v = '\\n'\n",
    "        print(c, end=v)\n",
    "        v = \" \""
   ]
  },
  {
   "cell_type": "code",
   "execution_count": null,
   "metadata": {
    "collapsed": true
   },
   "outputs": [],
   "source": [
    "def check_board(player, pos):\n",
    "    temp = mat.reshape((size,size))\n",
    "    for i in range(size):\n",
    "        for j in range(size):\n",
    "            try:\n",
    "                if \n",
    "        #look in all directions\n",
    "        #if mat[]"
   ]
  },
  {
   "cell_type": "code",
   "execution_count": null,
   "metadata": {
    "collapsed": true
   },
   "outputs": [],
   "source": [
    "place(1,1)"
   ]
  },
  {
   "cell_type": "code",
   "execution_count": null,
   "metadata": {
    "collapsed": true
   },
   "outputs": [],
   "source": [
    "m = np.zeros((2,2), dtype=[('x', 'i4'), ('y', 'i4')]) # custom dtype\n",
    "print(m)"
   ]
  },
  {
   "cell_type": "code",
   "execution_count": null,
   "metadata": {
    "collapsed": true
   },
   "outputs": [],
   "source": [
    "def place(r,p):\n",
    "    if r<4:\n",
    "        mat[0,r-1] = player\n",
    "    elif r<7:\n",
    "        mat[1,r-3] = player\n",
    "    else:\n",
    "        mat[2,r-6] = player"
   ]
  },
  {
   "cell_type": "code",
   "execution_count": null,
   "metadata": {
    "collapsed": true
   },
   "outputs": [],
   "source": [
    "player = 1\n",
    "while True:\n",
    "    disp_board()\n",
    "    r = int(input(\"Enter your choice \"))\n",
    "    place(r,player)\n",
    "    player = -player\n",
    "    #USE var.set(\"X's turn\") etc. in GUI\n",
    "    if k>=9:    #When board is full i.e. Game Completed\n",
    "        disp_winner()"
   ]
  },
  {
   "cell_type": "code",
   "execution_count": null,
   "metadata": {
    "collapsed": true
   },
   "outputs": [],
   "source": []
  },
  {
   "cell_type": "code",
   "execution_count": null,
   "metadata": {
    "collapsed": true
   },
   "outputs": [],
   "source": []
  },
  {
   "cell_type": "code",
   "execution_count": null,
   "metadata": {
    "collapsed": true
   },
   "outputs": [],
   "source": []
  },
  {
   "cell_type": "code",
   "execution_count": null,
   "metadata": {
    "collapsed": true
   },
   "outputs": [],
   "source": []
  },
  {
   "cell_type": "code",
   "execution_count": null,
   "metadata": {
    "collapsed": true
   },
   "outputs": [],
   "source": []
  },
  {
   "cell_type": "code",
   "execution_count": null,
   "metadata": {
    "collapsed": true
   },
   "outputs": [],
   "source": []
  },
  {
   "cell_type": "code",
   "execution_count": null,
   "metadata": {
    "collapsed": true
   },
   "outputs": [],
   "source": []
  },
  {
   "cell_type": "code",
   "execution_count": null,
   "metadata": {
    "collapsed": true
   },
   "outputs": [],
   "source": [
    "root = Tk()\n",
    "root.title(\"TicTacToe.ai\")\n",
    "var = \"Welcome to TicTacToe.ai\"\n",
    "#window.pack_propagate(0)\n",
    "welcome = Label(root, text= var)\n",
    "welcome.pack()\n",
    "top = Frame(root)\n",
    "top.pack()\n",
    "mid = Frame(root)\n",
    "mid.pack(side = BOTTOM)\n",
    "bottom = Frame(root)\n",
    "bottom.pack(side = BOTTOM)\n",
    "\n",
    "b1 = Button(top, text=\"1\")\n",
    "b2 = Button(top, text=\"2\")\n",
    "b3 = Button(top, text=\"3\")\n",
    "b4 = Button(mid, text=\"4\")\n",
    "b5 = Button(mid, text=\"5\")\n",
    "b6 = Button(mid, text=\"6\")\n",
    "b7 = Button(bottom, text=\"7\")\n",
    "b8 = Button(bottom, text=\"8\")\n",
    "b9 = Button(bottom, text=\"9\")\n",
    "\n",
    "b1.pack(side = LEFT)\n",
    "b2.pack(side = LEFT)\n",
    "b3.pack(side = LEFT)\n",
    "b4.pack(side = LEFT)\n",
    "b5.pack(side = LEFT)\n",
    "b6.pack(side = LEFT)\n",
    "b7.pack(side = LEFT)\n",
    "b8.pack(side = LEFT)\n",
    "b9.pack(side = LEFT)\n",
    "\n",
    "root.mainloop()"
   ]
  }
 ],
 "metadata": {
  "kernelspec": {
   "display_name": "Python 3",
   "language": "python",
   "name": "python3"
  },
  "language_info": {
   "codemirror_mode": {
    "name": "ipython",
    "version": 3
   },
   "file_extension": ".py",
   "mimetype": "text/x-python",
   "name": "python",
   "nbconvert_exporter": "python",
   "pygments_lexer": "ipython3",
   "version": "3.6.3"
  }
 },
 "nbformat": 4,
 "nbformat_minor": 2
}
